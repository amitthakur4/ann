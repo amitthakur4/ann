{
  "nbformat": 4,
  "nbformat_minor": 0,
  "metadata": {
    "colab": {
      "name": "ANN.ipynb",
      "provenance": [],
      "collapsed_sections": [],
      "authorship_tag": "ABX9TyOB83mjUVRxmNtskGrZ6QTB",
      "include_colab_link": true
    },
    "kernelspec": {
      "name": "python3",
      "display_name": "Python 3"
    },
    "language_info": {
      "name": "python"
    }
  },
  "cells": [
    {
      "cell_type": "markdown",
      "metadata": {
        "id": "view-in-github",
        "colab_type": "text"
      },
      "source": [
        "<a href=\"https://colab.research.google.com/github/amitthakur4/ann/blob/main/ANN.ipynb\" target=\"_parent\"><img src=\"https://colab.research.google.com/assets/colab-badge.svg\" alt=\"Open In Colab\"/></a>"
      ]
    },
    {
      "cell_type": "code",
      "metadata": {
        "id": "6oRWcgxsoIS0"
      },
      "source": [
        "import numpy as np\n",
        "import pandas as pd\n",
        "import tensorflow as tf"
      ],
      "execution_count": null,
      "outputs": []
    },
    {
      "cell_type": "code",
      "metadata": {
        "colab": {
          "base_uri": "https://localhost:8080/",
          "height": 35
        },
        "id": "zK7LSeQqoySp",
        "outputId": "de73e1b1-2adc-47f3-da63-a7e26996c27a"
      },
      "source": [
        "tf.__version__"
      ],
      "execution_count": null,
      "outputs": [
        {
          "output_type": "execute_result",
          "data": {
            "application/vnd.google.colaboratory.intrinsic+json": {
              "type": "string"
            },
            "text/plain": [
              "'2.5.0'"
            ]
          },
          "metadata": {
            "tags": []
          },
          "execution_count": 26
        }
      ]
    },
    {
      "cell_type": "markdown",
      "metadata": {
        "id": "lscG_4mspNaH"
      },
      "source": [
        "# PART1 - DATA PREPROCESSING\n",
        "IMPORTING THE DATASET\n"
      ]
    },
    {
      "cell_type": "code",
      "metadata": {
        "id": "T_wJ3Y6uoygP"
      },
      "source": [
        "dataset= pd.read_csv(r'/content/sample_data/Churn_Modelling.csv')\n",
        "X= dataset.iloc[:,3:-1].values\n",
        "y= dataset.iloc[:,-1].values"
      ],
      "execution_count": null,
      "outputs": []
    },
    {
      "cell_type": "code",
      "metadata": {
        "colab": {
          "base_uri": "https://localhost:8080/"
        },
        "id": "6dQYzSphoyjU",
        "outputId": "40db1986-49cc-4bb2-b5d1-46607ba663d7"
      },
      "source": [
        "print(X)"
      ],
      "execution_count": null,
      "outputs": [
        {
          "output_type": "stream",
          "text": [
            "[[619 'France' 'Female' ... 1 1 101348.88]\n",
            " [608 'Spain' 'Female' ... 0 1 112542.58]\n",
            " [502 'France' 'Female' ... 1 0 113931.57]\n",
            " ...\n",
            " [709 'France' 'Female' ... 0 1 42085.58]\n",
            " [772 'Germany' 'Male' ... 1 0 92888.52]\n",
            " [792 'France' 'Female' ... 1 0 38190.78]]\n"
          ],
          "name": "stdout"
        }
      ]
    },
    {
      "cell_type": "code",
      "metadata": {
        "colab": {
          "base_uri": "https://localhost:8080/"
        },
        "id": "JUJlPGV-oymO",
        "outputId": "27c8d445-7cc1-4d6f-e357-3d55112fe51f"
      },
      "source": [
        "print(y)"
      ],
      "execution_count": null,
      "outputs": [
        {
          "output_type": "stream",
          "text": [
            "[1 0 1 ... 1 1 0]\n"
          ],
          "name": "stdout"
        }
      ]
    },
    {
      "cell_type": "code",
      "metadata": {
        "colab": {
          "base_uri": "https://localhost:8080/"
        },
        "id": "VdCLabnvrS5e",
        "outputId": "8a25eb74-08eb-4531-964b-fe0c7b4321b1"
      },
      "source": [
        "dataset.isnull().values.any()"
      ],
      "execution_count": null,
      "outputs": [
        {
          "output_type": "execute_result",
          "data": {
            "text/plain": [
              "False"
            ]
          },
          "metadata": {
            "tags": []
          },
          "execution_count": 30
        }
      ]
    },
    {
      "cell_type": "markdown",
      "metadata": {
        "id": "eve-XTDUyN6-"
      },
      "source": [
        "### Encoding Categorical Data\n",
        "\n",
        "\n",
        "\n"
      ]
    },
    {
      "cell_type": "code",
      "metadata": {
        "id": "6SeEGLVIrTGA"
      },
      "source": [
        "from sklearn.preprocessing import LabelEncoder\n",
        "le= LabelEncoder()\n",
        "X[:,2]= le.fit_transform(X[:,2])"
      ],
      "execution_count": null,
      "outputs": []
    },
    {
      "cell_type": "code",
      "metadata": {
        "colab": {
          "base_uri": "https://localhost:8080/"
        },
        "id": "UPrH4BhCrTH1",
        "outputId": "e8e8674c-0905-41d3-f258-e6ca7ad75b3e"
      },
      "source": [
        "print(X)"
      ],
      "execution_count": null,
      "outputs": [
        {
          "output_type": "stream",
          "text": [
            "[[619 'France' 0 ... 1 1 101348.88]\n",
            " [608 'Spain' 0 ... 0 1 112542.58]\n",
            " [502 'France' 0 ... 1 0 113931.57]\n",
            " ...\n",
            " [709 'France' 0 ... 0 1 42085.58]\n",
            " [772 'Germany' 1 ... 1 0 92888.52]\n",
            " [792 'France' 0 ... 1 0 38190.78]]\n"
          ],
          "name": "stdout"
        }
      ]
    },
    {
      "cell_type": "markdown",
      "metadata": {
        "id": "UksCQjJFy7jx"
      },
      "source": [
        "### One Hot Encoding to Geographical Column\n"
      ]
    },
    {
      "cell_type": "code",
      "metadata": {
        "id": "MCJvY6WlrTLj"
      },
      "source": [
        "from sklearn.compose import ColumnTransformer\n",
        "from sklearn.preprocessing import OneHotEncoder\n",
        "ct = ColumnTransformer(transformers= [('encoder', OneHotEncoder(), [1])], remainder=\"passthrough\")\n",
        "X= np.array(ct.fit_transform(X))"
      ],
      "execution_count": null,
      "outputs": []
    },
    {
      "cell_type": "code",
      "metadata": {
        "colab": {
          "base_uri": "https://localhost:8080/"
        },
        "id": "Ep3T667L1rwi",
        "outputId": "05862770-f00d-4150-b26d-1b0f57e2654d"
      },
      "source": [
        "X[1]"
      ],
      "execution_count": null,
      "outputs": [
        {
          "output_type": "execute_result",
          "data": {
            "text/plain": [
              "array([0.0, 0.0, 1.0, 608, 0, 41, 1, 83807.86, 1, 0, 1, 112542.58],\n",
              "      dtype=object)"
            ]
          },
          "metadata": {
            "tags": []
          },
          "execution_count": 34
        }
      ]
    },
    {
      "cell_type": "code",
      "metadata": {
        "id": "VAAA2L3PH9oy"
      },
      "source": [
        ""
      ],
      "execution_count": null,
      "outputs": []
    },
    {
      "cell_type": "markdown",
      "metadata": {
        "id": "Jj8YUWAGH_nK"
      },
      "source": [
        "### Splitting the dataset into traning nd test dataset\n"
      ]
    },
    {
      "cell_type": "code",
      "metadata": {
        "id": "2l_aunMZIJL7"
      },
      "source": [
        "from sklearn.model_selection import train_test_split\n",
        "X_train, X_test, y_train, y_test = train_test_split(X , y , test_size = 0.2, random_state=0)"
      ],
      "execution_count": null,
      "outputs": []
    },
    {
      "cell_type": "code",
      "metadata": {
        "colab": {
          "base_uri": "https://localhost:8080/"
        },
        "id": "-IujucdZI5e4",
        "outputId": "397cf9c3-c65b-4091-d7cb-f64e54fae9d9"
      },
      "source": [
        "print(f\"size of train is {X_train.shape[0]} & size of test is {y_test.shape[0]}\")"
      ],
      "execution_count": null,
      "outputs": [
        {
          "output_type": "stream",
          "text": [
            "size of train is 8000 & size of test is 2000\n"
          ],
          "name": "stdout"
        }
      ]
    },
    {
      "cell_type": "code",
      "metadata": {
        "id": "ReEv-uuoI7vZ"
      },
      "source": [
        "## NOTE: Feature Scaling is very necessary for ANN\n",
        "from sklearn.preprocessing import StandardScaler\n",
        "sc= StandardScaler()\n",
        "X_train= sc.fit_transform(X_train)\n",
        "X_test= sc.transform(X_test)"
      ],
      "execution_count": null,
      "outputs": []
    },
    {
      "cell_type": "code",
      "metadata": {
        "id": "Z6jpGDKnK3TJ"
      },
      "source": [
        ""
      ],
      "execution_count": null,
      "outputs": []
    },
    {
      "cell_type": "markdown",
      "metadata": {
        "id": "mSpuCv5I9wvt"
      },
      "source": [
        "# Part 2: Building the ANN"
      ]
    },
    {
      "cell_type": "markdown",
      "metadata": {
        "id": "a_kZWi8f-Elc"
      },
      "source": [
        "## Initializing the ANN"
      ]
    },
    {
      "cell_type": "code",
      "metadata": {
        "id": "E7prSGYQ-Irm"
      },
      "source": [
        "ann = tf.keras.models.Sequential()\n",
        "### this will allow our ann to initiate sequentially "
      ],
      "execution_count": null,
      "outputs": []
    },
    {
      "cell_type": "markdown",
      "metadata": {
        "id": "u70KsMZSCZK5"
      },
      "source": [
        "## Adding the input layer and the 1st hidden layer"
      ]
    },
    {
      "cell_type": "code",
      "metadata": {
        "id": "6SuSoiyZCohy"
      },
      "source": [
        "ann.add(tf.keras.layers.Dense(units=6 , activation= 'relu'))\n",
        "# we are adding 1st hidden layer with 6 neuron and activation function of rectifier - add method can add layer at whatevr stage of your nn\n",
        "# question . y 6 ? there is no thumb rule its has to be hyper tuned "
      ],
      "execution_count": null,
      "outputs": []
    },
    {
      "cell_type": "markdown",
      "metadata": {
        "id": "lDd3OUY1E1rN"
      },
      "source": [
        "## Adding 2nd hidden layer "
      ]
    },
    {
      "cell_type": "code",
      "metadata": {
        "id": "Je-OhkjBE822"
      },
      "source": [
        "ann.add(tf.keras.layers.Dense(units=6 , activation= 'relu'))"
      ],
      "execution_count": null,
      "outputs": []
    },
    {
      "cell_type": "markdown",
      "metadata": {
        "id": "DEuhHp3rFLmL"
      },
      "source": [
        "## Adding Output Layer"
      ]
    },
    {
      "cell_type": "code",
      "metadata": {
        "id": "dWkuDv-BFQc9"
      },
      "source": [
        "ann.add(tf.keras.layers.Dense(units=1 , activation= 'sigmoid'))\n",
        "# dependent var is Exited : which is binary hence sigmoid and only one dependent var hence unit= 1"
      ],
      "execution_count": null,
      "outputs": []
    },
    {
      "cell_type": "code",
      "metadata": {
        "id": "4cBEAw0wJUAb"
      },
      "source": [
        ""
      ],
      "execution_count": null,
      "outputs": []
    },
    {
      "cell_type": "markdown",
      "metadata": {
        "id": "RKR_UcPEJcDx"
      },
      "source": [
        "# Part 3: Training the ANN"
      ]
    },
    {
      "cell_type": "markdown",
      "metadata": {
        "id": "hdk7n-JWJtg8"
      },
      "source": [
        "## Compiling the ANN"
      ]
    },
    {
      "cell_type": "code",
      "metadata": {
        "colab": {
          "base_uri": "https://localhost:8080/",
          "height": 53
        },
        "id": "nRg70L5LJzyW",
        "outputId": "9aa10edf-77f7-4b3e-a540-35ea0db2e4a3"
      },
      "source": [
        "# lets start compiling with optimizer , loss fun and matric ( i.e Accuarcy bcoz of binary problem)\n",
        "ann.compile(optimizer= 'adam' , loss= 'binary_crossentropy' , metrics= ['accuracy'])\n",
        "\"\"\" \n",
        "adam - gonna perform stochastic gradient descent\n",
        "loss - binary_crossentropy for binary , for multiple dimention binary - categorical_crossentropy and activation above should be - softmax\n",
        "metrics - we can pass a list \n",
        "\"\"\""
      ],
      "execution_count": null,
      "outputs": [
        {
          "output_type": "execute_result",
          "data": {
            "application/vnd.google.colaboratory.intrinsic+json": {
              "type": "string"
            },
            "text/plain": [
              "' \\nadam - gonna perform stochastic gradient descent\\nloss - binary_crossentropy for binary , for multiple dimention binary - categorical_crossentropy and activation above should be - softmax\\nmetrics - we can pass a list \\n'"
            ]
          },
          "metadata": {
            "tags": []
          },
          "execution_count": 42
        }
      ]
    },
    {
      "cell_type": "markdown",
      "metadata": {
        "id": "W8JC8AAEn9zh"
      },
      "source": [
        "## Traning the ANN on Traning dataset"
      ]
    },
    {
      "cell_type": "code",
      "metadata": {
        "colab": {
          "base_uri": "https://localhost:8080/"
        },
        "id": "EE7mS_NVoEPh",
        "outputId": "7538c195-3143-4b6d-dd8d-64ed885fe817"
      },
      "source": [
        "ann.fit(X_train, y_train, batch_size= 64 , epochs= 100)\n",
        "# traning always has to be done with fit method\n",
        "# its always better to do batch size rather than row by row and ideal batch size should be 32\n",
        "# nn always needs some good epochs to train "
      ],
      "execution_count": null,
      "outputs": [
        {
          "output_type": "stream",
          "text": [
            "Epoch 1/100\n",
            "125/125 [==============================] - 0s 1ms/step - loss: 0.5649 - accuracy: 0.7921\n",
            "Epoch 2/100\n",
            "125/125 [==============================] - 0s 1ms/step - loss: 0.4838 - accuracy: 0.7960\n",
            "Epoch 3/100\n",
            "125/125 [==============================] - 0s 1ms/step - loss: 0.4573 - accuracy: 0.7960\n",
            "Epoch 4/100\n",
            "125/125 [==============================] - 0s 1ms/step - loss: 0.4453 - accuracy: 0.7960\n",
            "Epoch 5/100\n",
            "125/125 [==============================] - 0s 1ms/step - loss: 0.4392 - accuracy: 0.7960\n",
            "Epoch 6/100\n",
            "125/125 [==============================] - 0s 2ms/step - loss: 0.4353 - accuracy: 0.7961\n",
            "Epoch 7/100\n",
            "125/125 [==============================] - 0s 1ms/step - loss: 0.4326 - accuracy: 0.7991\n",
            "Epoch 8/100\n",
            "125/125 [==============================] - 0s 1ms/step - loss: 0.4301 - accuracy: 0.8029\n",
            "Epoch 9/100\n",
            "125/125 [==============================] - 0s 1ms/step - loss: 0.4279 - accuracy: 0.8067\n",
            "Epoch 10/100\n",
            "125/125 [==============================] - 0s 1ms/step - loss: 0.4255 - accuracy: 0.8115\n",
            "Epoch 11/100\n",
            "125/125 [==============================] - 0s 1ms/step - loss: 0.4227 - accuracy: 0.8164\n",
            "Epoch 12/100\n",
            "125/125 [==============================] - 0s 1ms/step - loss: 0.4200 - accuracy: 0.8170\n",
            "Epoch 13/100\n",
            "125/125 [==============================] - 0s 1ms/step - loss: 0.4172 - accuracy: 0.8211\n",
            "Epoch 14/100\n",
            "125/125 [==============================] - 0s 1ms/step - loss: 0.4144 - accuracy: 0.8220\n",
            "Epoch 15/100\n",
            "125/125 [==============================] - 0s 1ms/step - loss: 0.4113 - accuracy: 0.8232\n",
            "Epoch 16/100\n",
            "125/125 [==============================] - 0s 1ms/step - loss: 0.4080 - accuracy: 0.8255\n",
            "Epoch 17/100\n",
            "125/125 [==============================] - 0s 1ms/step - loss: 0.4042 - accuracy: 0.8265\n",
            "Epoch 18/100\n",
            "125/125 [==============================] - 0s 1ms/step - loss: 0.4008 - accuracy: 0.8298\n",
            "Epoch 19/100\n",
            "125/125 [==============================] - 0s 1ms/step - loss: 0.3980 - accuracy: 0.8324\n",
            "Epoch 20/100\n",
            "125/125 [==============================] - 0s 1ms/step - loss: 0.3958 - accuracy: 0.8335\n",
            "Epoch 21/100\n",
            "125/125 [==============================] - 0s 1ms/step - loss: 0.3932 - accuracy: 0.8353\n",
            "Epoch 22/100\n",
            "125/125 [==============================] - 0s 1ms/step - loss: 0.3909 - accuracy: 0.8357\n",
            "Epoch 23/100\n",
            "125/125 [==============================] - 0s 1ms/step - loss: 0.3889 - accuracy: 0.8353\n",
            "Epoch 24/100\n",
            "125/125 [==============================] - 0s 1ms/step - loss: 0.3871 - accuracy: 0.8359\n",
            "Epoch 25/100\n",
            "125/125 [==============================] - 0s 1ms/step - loss: 0.3857 - accuracy: 0.8354\n",
            "Epoch 26/100\n",
            "125/125 [==============================] - 0s 1ms/step - loss: 0.3842 - accuracy: 0.8363\n",
            "Epoch 27/100\n",
            "125/125 [==============================] - 0s 1ms/step - loss: 0.3831 - accuracy: 0.8367\n",
            "Epoch 28/100\n",
            "125/125 [==============================] - 0s 1ms/step - loss: 0.3816 - accuracy: 0.8361\n",
            "Epoch 29/100\n",
            "125/125 [==============================] - 0s 1ms/step - loss: 0.3806 - accuracy: 0.8365\n",
            "Epoch 30/100\n",
            "125/125 [==============================] - 0s 1ms/step - loss: 0.3793 - accuracy: 0.8357\n",
            "Epoch 31/100\n",
            "125/125 [==============================] - 0s 1ms/step - loss: 0.3783 - accuracy: 0.8376\n",
            "Epoch 32/100\n",
            "125/125 [==============================] - 0s 1ms/step - loss: 0.3774 - accuracy: 0.8365\n",
            "Epoch 33/100\n",
            "125/125 [==============================] - 0s 1ms/step - loss: 0.3759 - accuracy: 0.8356\n",
            "Epoch 34/100\n",
            "125/125 [==============================] - 0s 1ms/step - loss: 0.3751 - accuracy: 0.8375\n",
            "Epoch 35/100\n",
            "125/125 [==============================] - 0s 1ms/step - loss: 0.3742 - accuracy: 0.8355\n",
            "Epoch 36/100\n",
            "125/125 [==============================] - 0s 1ms/step - loss: 0.3729 - accuracy: 0.8365\n",
            "Epoch 37/100\n",
            "125/125 [==============================] - 0s 1ms/step - loss: 0.3725 - accuracy: 0.8367\n",
            "Epoch 38/100\n",
            "125/125 [==============================] - 0s 1ms/step - loss: 0.3716 - accuracy: 0.8357\n",
            "Epoch 39/100\n",
            "125/125 [==============================] - 0s 1ms/step - loss: 0.3702 - accuracy: 0.8376\n",
            "Epoch 40/100\n",
            "125/125 [==============================] - 0s 1ms/step - loss: 0.3696 - accuracy: 0.8428\n",
            "Epoch 41/100\n",
            "125/125 [==============================] - 0s 1ms/step - loss: 0.3687 - accuracy: 0.8432\n",
            "Epoch 42/100\n",
            "125/125 [==============================] - 0s 1ms/step - loss: 0.3678 - accuracy: 0.8429\n",
            "Epoch 43/100\n",
            "125/125 [==============================] - 0s 1ms/step - loss: 0.3667 - accuracy: 0.8443\n",
            "Epoch 44/100\n",
            "125/125 [==============================] - 0s 1ms/step - loss: 0.3656 - accuracy: 0.8479\n",
            "Epoch 45/100\n",
            "125/125 [==============================] - 0s 1ms/step - loss: 0.3647 - accuracy: 0.8454\n",
            "Epoch 46/100\n",
            "125/125 [==============================] - 0s 1ms/step - loss: 0.3637 - accuracy: 0.8479\n",
            "Epoch 47/100\n",
            "125/125 [==============================] - 0s 1ms/step - loss: 0.3628 - accuracy: 0.8487\n",
            "Epoch 48/100\n",
            "125/125 [==============================] - 0s 1ms/step - loss: 0.3620 - accuracy: 0.8499\n",
            "Epoch 49/100\n",
            "125/125 [==============================] - 0s 1ms/step - loss: 0.3611 - accuracy: 0.8501\n",
            "Epoch 50/100\n",
            "125/125 [==============================] - 0s 1ms/step - loss: 0.3603 - accuracy: 0.8508\n",
            "Epoch 51/100\n",
            "125/125 [==============================] - 0s 2ms/step - loss: 0.3594 - accuracy: 0.8519\n",
            "Epoch 52/100\n",
            "125/125 [==============================] - 0s 1ms/step - loss: 0.3589 - accuracy: 0.8497\n",
            "Epoch 53/100\n",
            "125/125 [==============================] - 0s 1ms/step - loss: 0.3584 - accuracy: 0.8500\n",
            "Epoch 54/100\n",
            "125/125 [==============================] - 0s 1ms/step - loss: 0.3574 - accuracy: 0.8503\n",
            "Epoch 55/100\n",
            "125/125 [==============================] - 0s 1ms/step - loss: 0.3564 - accuracy: 0.8514\n",
            "Epoch 56/100\n",
            "125/125 [==============================] - 0s 1ms/step - loss: 0.3560 - accuracy: 0.8529\n",
            "Epoch 57/100\n",
            "125/125 [==============================] - 0s 1ms/step - loss: 0.3549 - accuracy: 0.8493\n",
            "Epoch 58/100\n",
            "125/125 [==============================] - 0s 1ms/step - loss: 0.3550 - accuracy: 0.8518\n",
            "Epoch 59/100\n",
            "125/125 [==============================] - 0s 1ms/step - loss: 0.3544 - accuracy: 0.8528\n",
            "Epoch 60/100\n",
            "125/125 [==============================] - 0s 1ms/step - loss: 0.3537 - accuracy: 0.8547\n",
            "Epoch 61/100\n",
            "125/125 [==============================] - 0s 1ms/step - loss: 0.3534 - accuracy: 0.8535\n",
            "Epoch 62/100\n",
            "125/125 [==============================] - 0s 1ms/step - loss: 0.3525 - accuracy: 0.8535\n",
            "Epoch 63/100\n",
            "125/125 [==============================] - 0s 1ms/step - loss: 0.3517 - accuracy: 0.8555\n",
            "Epoch 64/100\n",
            "125/125 [==============================] - 0s 1ms/step - loss: 0.3511 - accuracy: 0.8553\n",
            "Epoch 65/100\n",
            "125/125 [==============================] - 0s 1ms/step - loss: 0.3507 - accuracy: 0.8574\n",
            "Epoch 66/100\n",
            "125/125 [==============================] - 0s 1ms/step - loss: 0.3500 - accuracy: 0.8576\n",
            "Epoch 67/100\n",
            "125/125 [==============================] - 0s 1ms/step - loss: 0.3493 - accuracy: 0.8575\n",
            "Epoch 68/100\n",
            "125/125 [==============================] - 0s 2ms/step - loss: 0.3494 - accuracy: 0.8545\n",
            "Epoch 69/100\n",
            "125/125 [==============================] - 0s 1ms/step - loss: 0.3483 - accuracy: 0.8575\n",
            "Epoch 70/100\n",
            "125/125 [==============================] - 0s 1ms/step - loss: 0.3475 - accuracy: 0.8589\n",
            "Epoch 71/100\n",
            "125/125 [==============================] - 0s 1ms/step - loss: 0.3474 - accuracy: 0.8589\n",
            "Epoch 72/100\n",
            "125/125 [==============================] - 0s 1ms/step - loss: 0.3467 - accuracy: 0.8585\n",
            "Epoch 73/100\n",
            "125/125 [==============================] - 0s 1ms/step - loss: 0.3463 - accuracy: 0.8590\n",
            "Epoch 74/100\n",
            "125/125 [==============================] - 0s 1ms/step - loss: 0.3460 - accuracy: 0.8581\n",
            "Epoch 75/100\n",
            "125/125 [==============================] - 0s 1ms/step - loss: 0.3463 - accuracy: 0.8577\n",
            "Epoch 76/100\n",
            "125/125 [==============================] - 0s 2ms/step - loss: 0.3448 - accuracy: 0.8593\n",
            "Epoch 77/100\n",
            "125/125 [==============================] - 0s 1ms/step - loss: 0.3449 - accuracy: 0.8599\n",
            "Epoch 78/100\n",
            "125/125 [==============================] - 0s 1ms/step - loss: 0.3442 - accuracy: 0.8597\n",
            "Epoch 79/100\n",
            "125/125 [==============================] - 0s 1ms/step - loss: 0.3436 - accuracy: 0.8599\n",
            "Epoch 80/100\n",
            "125/125 [==============================] - 0s 1ms/step - loss: 0.3435 - accuracy: 0.8594\n",
            "Epoch 81/100\n",
            "125/125 [==============================] - 0s 1ms/step - loss: 0.3431 - accuracy: 0.8599\n",
            "Epoch 82/100\n",
            "125/125 [==============================] - 0s 1ms/step - loss: 0.3427 - accuracy: 0.8606\n",
            "Epoch 83/100\n",
            "125/125 [==============================] - 0s 1ms/step - loss: 0.3430 - accuracy: 0.8610\n",
            "Epoch 84/100\n",
            "125/125 [==============================] - 0s 1ms/step - loss: 0.3424 - accuracy: 0.8625\n",
            "Epoch 85/100\n",
            "125/125 [==============================] - 0s 1ms/step - loss: 0.3420 - accuracy: 0.8602\n",
            "Epoch 86/100\n",
            "125/125 [==============================] - 0s 1ms/step - loss: 0.3413 - accuracy: 0.8610\n",
            "Epoch 87/100\n",
            "125/125 [==============================] - 0s 1ms/step - loss: 0.3414 - accuracy: 0.8602\n",
            "Epoch 88/100\n",
            "125/125 [==============================] - 0s 1ms/step - loss: 0.3412 - accuracy: 0.8600\n",
            "Epoch 89/100\n",
            "125/125 [==============================] - 0s 1ms/step - loss: 0.3406 - accuracy: 0.8612\n",
            "Epoch 90/100\n",
            "125/125 [==============================] - 0s 1ms/step - loss: 0.3408 - accuracy: 0.8611\n",
            "Epoch 91/100\n",
            "125/125 [==============================] - 0s 1ms/step - loss: 0.3400 - accuracy: 0.8619\n",
            "Epoch 92/100\n",
            "125/125 [==============================] - 0s 1ms/step - loss: 0.3402 - accuracy: 0.8615\n",
            "Epoch 93/100\n",
            "125/125 [==============================] - 0s 1ms/step - loss: 0.3397 - accuracy: 0.8622\n",
            "Epoch 94/100\n",
            "125/125 [==============================] - 0s 1ms/step - loss: 0.3391 - accuracy: 0.8631\n",
            "Epoch 95/100\n",
            "125/125 [==============================] - 0s 1ms/step - loss: 0.3398 - accuracy: 0.8619\n",
            "Epoch 96/100\n",
            "125/125 [==============================] - 0s 1ms/step - loss: 0.3393 - accuracy: 0.8601\n",
            "Epoch 97/100\n",
            "125/125 [==============================] - 0s 1ms/step - loss: 0.3391 - accuracy: 0.8614\n",
            "Epoch 98/100\n",
            "125/125 [==============================] - 0s 1ms/step - loss: 0.3386 - accuracy: 0.8631\n",
            "Epoch 99/100\n",
            "125/125 [==============================] - 0s 1ms/step - loss: 0.3387 - accuracy: 0.8612\n",
            "Epoch 100/100\n",
            "125/125 [==============================] - 0s 1ms/step - loss: 0.3390 - accuracy: 0.8615\n"
          ],
          "name": "stdout"
        },
        {
          "output_type": "execute_result",
          "data": {
            "text/plain": [
              "<tensorflow.python.keras.callbacks.History at 0x7f85101f1810>"
            ]
          },
          "metadata": {
            "tags": []
          },
          "execution_count": 43
        }
      ]
    },
    {
      "cell_type": "code",
      "metadata": {
        "colab": {
          "base_uri": "https://localhost:8080/"
        },
        "id": "rNOIFtNvu0iH",
        "outputId": "c5a25054-1879-48d6-fc3a-6ef4b6c36ba3"
      },
      "source": [
        "#predicting for single observation \n",
        "ann.predict(sc.transform([[1,0,0,600,1,40,3,60000, 2,1,1,50000]]))"
      ],
      "execution_count": null,
      "outputs": [
        {
          "output_type": "execute_result",
          "data": {
            "text/plain": [
              "array([[0.03863409]], dtype=float32)"
            ]
          },
          "metadata": {
            "tags": []
          },
          "execution_count": 46
        }
      ]
    },
    {
      "cell_type": "code",
      "metadata": {
        "colab": {
          "base_uri": "https://localhost:8080/"
        },
        "id": "8s6D6G9cv7uR",
        "outputId": "c8ead1d6-a7bd-4689-88f6-99377bdaf724"
      },
      "source": [
        "print(ann.predict(sc.transform([[1,0,0,600,1,40,3,60000, 2,1,1,50000]]))>0.5)"
      ],
      "execution_count": null,
      "outputs": [
        {
          "output_type": "stream",
          "text": [
            "[[False]]\n"
          ],
          "name": "stdout"
        }
      ]
    },
    {
      "cell_type": "markdown",
      "metadata": {
        "id": "d9efRN1UwrKQ"
      },
      "source": [
        "## Predicting the test set result"
      ]
    },
    {
      "cell_type": "code",
      "metadata": {
        "colab": {
          "base_uri": "https://localhost:8080/"
        },
        "id": "ygzBdwuvwv7A",
        "outputId": "83f37ab6-8274-4356-82e4-18705a5cd16b"
      },
      "source": [
        "y_pred = ann.predict(X_test)\n",
        "y_pred = (y_pred > 0.5)\n",
        "print(np.concatenate((y_pred.reshape(len(y_pred),1),y_test.reshape(len(y_test),1)),1))"
      ],
      "execution_count": null,
      "outputs": [
        {
          "output_type": "stream",
          "text": [
            "[[0 0]\n",
            " [0 1]\n",
            " [0 0]\n",
            " ...\n",
            " [0 0]\n",
            " [0 0]\n",
            " [0 0]]\n"
          ],
          "name": "stdout"
        }
      ]
    },
    {
      "cell_type": "markdown",
      "metadata": {
        "id": "lTMYinaIyIW_"
      },
      "source": [
        "## Making confusion matrix"
      ]
    },
    {
      "cell_type": "code",
      "metadata": {
        "colab": {
          "base_uri": "https://localhost:8080/"
        },
        "id": "2aV_-7EeyMiO",
        "outputId": "d30dfe08-9c3c-4c2c-d3d7-192823d9668c"
      },
      "source": [
        "from sklearn.metrics import confusion_matrix, accuracy_score\n",
        "cm= confusion_matrix(y_test, y_pred)\n",
        "print(cm)\n",
        "accuracy_score(y_test, y_pred)"
      ],
      "execution_count": null,
      "outputs": [
        {
          "output_type": "stream",
          "text": [
            "[[1516   79]\n",
            " [ 207  198]]\n"
          ],
          "name": "stdout"
        },
        {
          "output_type": "execute_result",
          "data": {
            "text/plain": [
              "0.857"
            ]
          },
          "metadata": {
            "tags": []
          },
          "execution_count": 50
        }
      ]
    }
  ]
}